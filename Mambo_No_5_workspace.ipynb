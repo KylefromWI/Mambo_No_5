{
 "cells": [
  {
   "cell_type": "code",
   "execution_count": 1,
   "metadata": {},
   "outputs": [
    {
     "data": {
      "text/html": [
       "<div>\n",
       "<style scoped>\n",
       "    .dataframe tbody tr th:only-of-type {\n",
       "        vertical-align: middle;\n",
       "    }\n",
       "\n",
       "    .dataframe tbody tr th {\n",
       "        vertical-align: top;\n",
       "    }\n",
       "\n",
       "    .dataframe thead th {\n",
       "        text-align: right;\n",
       "    }\n",
       "</style>\n",
       "<table border=\"1\" class=\"dataframe\">\n",
       "  <thead>\n",
       "    <tr style=\"text-align: right;\">\n",
       "      <th></th>\n",
       "      <th>year</th>\n",
       "      <th>Sandra (F)</th>\n",
       "      <th>Sandra (M)</th>\n",
       "    </tr>\n",
       "  </thead>\n",
       "  <tbody>\n",
       "    <tr>\n",
       "      <th>0</th>\n",
       "      <td>1880</td>\n",
       "      <td>0.0</td>\n",
       "      <td>0.0</td>\n",
       "    </tr>\n",
       "    <tr>\n",
       "      <th>1</th>\n",
       "      <td>1881</td>\n",
       "      <td>0.0</td>\n",
       "      <td>0.0</td>\n",
       "    </tr>\n",
       "    <tr>\n",
       "      <th>2</th>\n",
       "      <td>1882</td>\n",
       "      <td>0.0</td>\n",
       "      <td>0.0</td>\n",
       "    </tr>\n",
       "    <tr>\n",
       "      <th>3</th>\n",
       "      <td>1883</td>\n",
       "      <td>0.0</td>\n",
       "      <td>0.0</td>\n",
       "    </tr>\n",
       "    <tr>\n",
       "      <th>4</th>\n",
       "      <td>1884</td>\n",
       "      <td>0.0</td>\n",
       "      <td>0.0</td>\n",
       "    </tr>\n",
       "  </tbody>\n",
       "</table>\n",
       "</div>"
      ],
      "text/plain": [
       "   year  Sandra (F)  Sandra (M)\n",
       "0  1880         0.0         0.0\n",
       "1  1881         0.0         0.0\n",
       "2  1882         0.0         0.0\n",
       "3  1883         0.0         0.0\n",
       "4  1884         0.0         0.0"
      ]
     },
     "execution_count": 1,
     "metadata": {},
     "output_type": "execute_result"
    }
   ],
   "source": [
    "import pandas as pd\n",
    "\n",
    "# See if I can\n",
    "df = pd.read_csv('http://rhiever.github.io/baby-name-explorer/names/S/Sandra.txt')\n",
    "df.head()"
   ]
  },
  {
   "cell_type": "code",
   "execution_count": 2,
   "metadata": {},
   "outputs": [
    {
     "data": {
      "text/plain": [
       "year            int64\n",
       "Sandra (F)    float64\n",
       "Sandra (M)    float64\n",
       "dtype: object"
      ]
     },
     "execution_count": 2,
     "metadata": {},
     "output_type": "execute_result"
    }
   ],
   "source": [
    "import time\n",
    "\n",
    "names_lit = [\"Angela\", \"Pamela\", \"Sandra\", \"Rita\", \"Monica\", \"Erica\", \"Tina\", \"Mary\", \"Jessica\"]\n",
    "names_ext = ['Erika', 'Monika']\n",
    "names_tina = ['Christina', 'Christine', 'Kristina', 'Kristine']\n",
    "\n",
    "def name_to_url(n):\n",
    "    f_init=n[0]\n",
    "    return \"http://rhiever.github.io/baby-name-explorer/names/{}/{}.txt\".format(f_init, n)\n",
    "\n",
    "def get_df(n):\n",
    "    url = name_to_url(n)\n",
    "    return pd.read_csv(url)\n",
    "\n",
    "tst = get_df(names_lit[2])\n",
    "\n",
    "tst.dtypes\n",
    "\n",
    "# Mappin\n",
    "# urls = map(name_to_url, names_lit)\n",
    "\n",
    "# List comprehension\n",
    "# [print(x) for x in urls]"
   ]
  },
  {
   "cell_type": "code",
   "execution_count": 3,
   "metadata": {},
   "outputs": [],
   "source": [
    "#TODO: learn about notebooks and import retention\n",
    "#import time\n",
    "\n",
    "# Locally saves the data as text files within 'dest'\n",
    "# Only needs to be run once\n",
    "#def load_data(dest, ns):\n",
    "#    for n in ns:\n",
    "#        d = get_df(n)\n",
    "#        with open(\"{}/{}.txt\".format(dest, n), \"w+\") as file:\n",
    "#            file.write(get_df(n).to_csv(float_format=\"%.6f\"))\n",
    "#        time.sleep(0.005)\n",
    "#    return \"data loaded\"\n",
    "\n",
    "#load_data(\"MamboNameData\", names_lit)"
   ]
  },
  {
   "cell_type": "code",
   "execution_count": 4,
   "metadata": {},
   "outputs": [],
   "source": [
    "#https://pandas.pydata.org/pandas-docs/stable/reference/api/pandas.DataFrame.join.html#pandas.DataFrame.join\n",
    "\n",
    "def join_girls_only(n1, n2):\n",
    "    #df.drop(df.columns[2])\n",
    "    return n1.set_index(\"year\").join(n2.set_index('year'))\n",
    "    \n",
    "foo = pd.read_csv(\"MamboNameData/Angela.txt\")\n",
    "bar = pd.read_csv(\"MamboNameData/Rita.txt\")\n",
    "\n",
    "\n",
    "#baz = foo.join(bar.set_index(\"year\"))#join_girls_only(foo, bar)\n",
    "#baz.head()\n",
    "\n",
    "#TODO: Implement the below\n",
    "# Takes a directory name\n",
    "# Returns a df with female columns joined on year from all files\n",
    "\n",
    "#def full_df(dest):\n",
    "  #  for file in os.listdir(dest):\n",
    "     #   if file.endswith(\".txt\"):\n",
    "      #      pd.read_csv(file)\n",
    "    # drop Male columns\n",
    "    # df.drop(df.columns[2])\n",
    "    \n",
    "    # join\n",
    "    # df.join(df2.set_index('year'), on='year')\n",
    "   # return df.drop"
   ]
  },
  {
   "cell_type": "code",
   "execution_count": null,
   "metadata": {},
   "outputs": [],
   "source": []
  }
 ],
 "metadata": {
  "kernelspec": {
   "display_name": "Python 3",
   "language": "python",
   "name": "python3"
  },
  "language_info": {
   "codemirror_mode": {
    "name": "ipython",
    "version": 3
   },
   "file_extension": ".py",
   "mimetype": "text/x-python",
   "name": "python",
   "nbconvert_exporter": "python",
   "pygments_lexer": "ipython3",
   "version": "3.7.0"
  }
 },
 "nbformat": 4,
 "nbformat_minor": 2
}
